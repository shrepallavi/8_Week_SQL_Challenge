
   "source": [
    "%%sql\n",
    "CREATE TABLE sales (\n",
    "  \"customer_id\" VARCHAR(1),\n",
    "  \"order_date\" DATE,\n",
    "  \"product_id\" INTEGER\n",
    ");\n",
    "\n",
    "INSERT INTO sales\n",
    "  (\"customer_id\", \"order_date\", \"product_id\")\n",
    "VALUES\n",
    "  ('A', '2021-01-01', '1'),\n",
    "  ('A', '2021-01-01', '2'),\n",
    "  ('A', '2021-01-07', '2'),\n",
    "  ('A', '2021-01-10', '3'),\n",
    "  ('A', '2021-01-11', '3'),\n",
    "  ('A', '2021-01-11', '3'),\n",
    "  ('B', '2021-01-01', '2'),\n",
    "  ('B', '2021-01-02', '2'),\n",
    "  ('B', '2021-01-04', '1'),\n",
    "  ('B', '2021-01-11', '1'),\n",
    "  ('B', '2021-01-16', '3'),\n",
    "  ('B', '2021-02-01', '3'),\n",
    "  ('C', '2021-01-01', '3'),\n",
    "  ('C', '2021-01-01', '3'),\n",
    "  ('C', '2021-01-07', '3');\n",
    " \n",
    "\n",
    "CREATE TABLE menu (\n",
    "  \"product_id\" INTEGER,\n",
    "  \"product_name\" VARCHAR(5),\n",
    "  \"price\" INTEGER\n",
    ");\n",
    "\n",
    "INSERT INTO menu\n",
    "  (\"product_id\", \"product_name\", \"price\")\n",
    "VALUES\n",
    "  ('1', 'sushi', '10'),\n",
    "  ('2', 'curry', '15'),\n",
    "  ('3', 'ramen', '12');\n",
    "  \n",
    "\n",
    "CREATE TABLE members (\n",
    "  \"customer_id\" VARCHAR(1),\n",
    "  \"join_date\" DATE\n",
    ");\n",
    "\n",
    "INSERT INTO members\n",
    "  (\"customer_id\", \"join_date\")\n",
    "VALUES\n",
    "  ('A', '2021-01-07'),\n",
    "  ('B', '2021-01-09');"
   ]
  },
  {
   "cell_type": "code",
   "execution_count": 22,
   "id": "917f294e",
   "metadata": {},
   "outputs": [
    {
     "name": "stdout",
     "output_type": "stream",
     "text": [
      " * sqlite://\n",
      "Done.\n"
     ]
    },
    {
     "data": {
      "text/html": [
       "<table>\n",
       "    <tr>\n",
       "        <th>customer_id</th>\n",
       "        <th>total_amount</th>\n",
       "    </tr>\n",
       "    <tr>\n",
       "        <td>A</td>\n",
       "        <td>76</td>\n",
       "    </tr>\n",
       "    <tr>\n",
       "        <td>B</td>\n",
       "        <td>74</td>\n",
       "    </tr>\n",
       "    <tr>\n",
       "        <td>C</td>\n",
       "        <td>36</td>\n",
       "    </tr>\n",
       "</table>"
      ],
      "text/plain": [
       "[('A', 76), ('B', 74), ('C', 36)]"
      ]
     },
     "execution_count": 22,
     "metadata": {},
     "output_type": "execute_result"
    }
   ],
   "source": [
    "%%sql\n",
    "-- 1. What is the total amount each customer spent at the restaurant?\n",
    "select sales.customer_id,sum(menu.price) as total_amount\n",
    "from sales \n",
    "inner join\n",
    "menu  on sales.product_id = menu.product_id\n",
    "group by sales.customer_id \n",
    "order by sales.customer_id ;"
   ]
  },
  {
   "cell_type": "code",
   "execution_count": 6,
   "id": "9d235dd9",
   "metadata": {},
   "outputs": [
    {
     "name": "stdout",
     "output_type": "stream",
     "text": [
      " * sqlite://\n",
      "Done.\n"
     ]
    },
    {
     "data": {
      "text/html": [
       "<table>\n",
       "    <tr>\n",
       "        <th>customer_id</th>\n",
       "        <th>count(distinct order_date)</th>\n",
       "    </tr>\n",
       "    <tr>\n",
       "        <td>A</td>\n",
       "        <td>4</td>\n",
       "    </tr>\n",
       "    <tr>\n",
       "        <td>B</td>\n",
       "        <td>6</td>\n",
       "    </tr>\n",
       "    <tr>\n",
       "        <td>C</td>\n",
       "        <td>2</td>\n",
       "    </tr>\n",
       "</table>"
      ],
      "text/plain": [
       "[('A', 4), ('B', 6), ('C', 2)]"
      ]
     },
     "execution_count": 6,
     "metadata": {},
     "output_type": "execute_result"
    }
   ],
   "source": [
    "%%sql\n",
    "-- 2. How many days has each customer visited the restaurant?\n",
    "select customer_id,count(distinct order_date)\n",
    "from sales\n",
    "group by customer_id;"
   ]
  },
  {
   "cell_type": "code",
   "execution_count": 8,
   "id": "779427ed",
   "metadata": {},
   "outputs": [
    {
     "name": "stdout",
     "output_type": "stream",
     "text": [
      " * sqlite://\n",
      "Done.\n"
     ]
    },
    {
     "data": {
      "text/html": [
       "<table>\n",
       "    <tr>\n",
       "        <th>customer_id</th>\n",
       "        <th>product_name</th>\n",
       "    </tr>\n",
       "    <tr>\n",
       "        <td>A</td>\n",
       "        <td>sushi</td>\n",
       "    </tr>\n",
       "    <tr>\n",
       "        <td>B</td>\n",
       "        <td>curry</td>\n",
       "    </tr>\n",
       "    <tr>\n",
       "        <td>C</td>\n",
       "        <td>ramen</td>\n",
       "    </tr>\n",
       "</table>"
      ],
      "text/plain": [
       "[('A', 'sushi'), ('B', 'curry'), ('C', 'ramen')]"
      ]
     },
     "execution_count": 8,
     "metadata": {},
     "output_type": "execute_result"
    }
   ],
   "source": [
    "%%sql\n",
    "-- 3. What was the first item from the menu purchased by each customer?\n",
    "select t1.customer_id,t2.product_name from\n",
    "(select customer_id,order_date,product_id, row_number() over(partition by customer_id order by order_date) as row_num\n",
    "from sales) t1\n",
    "inner join \n",
    "menu t2 on t1.product_id = t2.product_id\n",
    "where t1.row_num = 1;"
   ]
  },
  {
   "cell_type": "code",
   "execution_count": 9,
   "id": "f4f68171",
   "metadata": {},
   "outputs": [
    {
     "name": "stdout",
     "output_type": "stream",
     "text": [
      " * sqlite://\n",
      "Done.\n"
     ]
    },
    {
     "data": {
      "text/html": [
       "<table>\n",
       "    <tr>\n",
       "        <th>customer_id</th>\n",
       "        <th>product_name</th>\n",
       "        <th>count(t1.product_id)</th>\n",
       "    </tr>\n",
       "    <tr>\n",
       "        <td>A</td>\n",
       "        <td>ramen</td>\n",
       "        <td>3</td>\n",
       "    </tr>\n",
       "    <tr>\n",
       "        <td>B</td>\n",
       "        <td>ramen</td>\n",
       "        <td>2</td>\n",
       "    </tr>\n",
       "    <tr>\n",
       "        <td>C</td>\n",
       "        <td>ramen</td>\n",
       "        <td>3</td>\n",
       "    </tr>\n",
       "</table>"
      ],
      "text/plain": [
       "[('A', 'ramen', 3), ('B', 'ramen', 2), ('C', 'ramen', 3)]"
      ]
     },
     "execution_count": 9,
     "metadata": {},
     "output_type": "execute_result"
    }
   ],
   "source": [
    "%%sql\n",
    "-- 4. What is the most purchased item on the menu and how many times was it purchased by all customers?\n",
    "select t1.customer_id,t2.product_name,count(t1.product_id) from\n",
    "sales t1\n",
    "inner join\n",
    "menu t2 on t1.product_id = t2.product_id \n",
    "where t1.product_id =\n",
    "(select t.product_id from (\n",
    "  select product_id,count(product_id) as total_count\n",
    "from sales\n",
    "group by customer_id,product_id\n",
    "order by total_count Desc limit 1) t)\n",
    "group by t1.customer_id,t2.product_name;\n"
   ]
  },
  {
   "cell_type": "code",
   "execution_count": 10,
   "id": "b3acc5fb",
   "metadata": {},
   "outputs": [
    {
     "name": "stdout",
     "output_type": "stream",
     "text": [
      " * sqlite://\n",
      "Done.\n"
     ]
    },
    {
     "data": {
      "text/html": [
       "<table>\n",
       "    <tr>\n",
       "        <th>customer_id</th>\n",
       "        <th>product_name</th>\n",
       "    </tr>\n",
       "    <tr>\n",
       "        <td>A</td>\n",
       "        <td>ramen</td>\n",
       "    </tr>\n",
       "    <tr>\n",
       "        <td>B</td>\n",
       "        <td>sushi</td>\n",
       "    </tr>\n",
       "    <tr>\n",
       "        <td>B</td>\n",
       "        <td>ramen</td>\n",
       "    </tr>\n",
       "    <tr>\n",
       "        <td>B</td>\n",
       "        <td>curry</td>\n",
       "    </tr>\n",
       "    <tr>\n",
       "        <td>C</td>\n",
       "        <td>ramen</td>\n",
       "    </tr>\n",
       "</table>"
      ],
      "text/plain": [
       "[('A', 'ramen'),\n",
       " ('B', 'sushi'),\n",
       " ('B', 'ramen'),\n",
       " ('B', 'curry'),\n",
       " ('C', 'ramen')]"
      ]
     },
     "execution_count": 10,
     "metadata": {},
     "output_type": "execute_result"
    }
   ],
   "source": [
    "%%sql\n",
    "select t.customer_id,t.product_name from \n",
    "(select t1.customer_id,t2.product_name,count(t1.product_id),rank() over(partition by customer_id order by count(t1.product_id) desc) as row_num\n",
    "from sales t1\n",
    "inner join \n",
    "menu t2 on t1.product_id = t2.product_id\n",
    "group by t1.customer_id,t2.product_name) t\n",
    "where t.row_num =1; "
   ]
  },
  {
   "cell_type": "code",
   "execution_count": 23,
   "id": "159e5b48",
   "metadata": {},
   "outputs": [
    {
     "name": "stdout",
     "output_type": "stream",
     "text": [
      " * sqlite://\n",
      "Done.\n"
     ]
    },
    {
     "data": {
      "text/html": [
       "<table>\n",
       "    <tr>\n",
       "        <th>customer_id</th>\n",
       "        <th>product_name</th>\n",
       "        <th>order_date</th>\n",
       "    </tr>\n",
       "    <tr>\n",
       "        <td>A</td>\n",
       "        <td>curry</td>\n",
       "        <td>2021-01-07</td>\n",
       "    </tr>\n",
       "    <tr>\n",
       "        <td>B</td>\n",
       "        <td>sushi</td>\n",
       "        <td>2021-01-11</td>\n",
       "    </tr>\n",
       "</table>"
      ],
      "text/plain": [
       "[('A', 'curry', '2021-01-07'), ('B', 'sushi', '2021-01-11')]"
      ]
     },
     "execution_count": 23,
     "metadata": {},
     "output_type": "execute_result"
    }
   ],
   "source": [
    "%%sql\n",
    "-- 6. Which item was purchased first by the customer after they became a member?\n",
    "select t.customer_id,t.product_name,t.order_date from\n",
    "(select sales.customer_id,menu.product_name,sales.order_date,\n",
    "row_number() over(partition by sales.customer_id order by sales.order_date) as row_num\n",
    "from sales \n",
    "inner join \n",
    "menu on sales.product_id = menu.product_id\n",
    "inner join \n",
    "members on sales.customer_id = members.customer_id\n",
    "where sales.order_date >= members.join_date) t where t.row_num = 1\n",
    ";"
   ]
  },
  {
   "cell_type": "code",
   "execution_count": 24,
   "id": "767914e2",
   "metadata": {},
   "outputs": [
    {
     "name": "stdout",
     "output_type": "stream",
     "text": [
      " * sqlite://\n",
      "Done.\n"
     ]
    },
    {
     "data": {
      "text/html": [
       "<table>\n",
       "    <tr>\n",
       "        <th>customer_id</th>\n",
       "        <th>product_name</th>\n",
       "        <th>order_date</th>\n",
       "    </tr>\n",
       "    <tr>\n",
       "        <td>A</td>\n",
       "        <td>sushi</td>\n",
       "        <td>2021-01-01</td>\n",
       "    </tr>\n",
       "    <tr>\n",
       "        <td>B</td>\n",
       "        <td>sushi</td>\n",
       "        <td>2021-01-04</td>\n",
       "    </tr>\n",
       "</table>"
      ],
      "text/plain": [
       "[('A', 'sushi', '2021-01-01'), ('B', 'sushi', '2021-01-04')]"
      ]
     },
     "execution_count": 24,
     "metadata": {},
     "output_type": "execute_result"
    }
   ],
   "source": [
    "%%sql\n",
    "-- 7. Which item was purchased just before the customer became a member?\n",
    "select t.customer_id,t.product_name,t.order_date from\n",
    "(select sales.customer_id,menu.product_name,sales.order_date,\n",
    "row_number() over(partition by sales.customer_id order by sales.order_date desc) as row_num\n",
    "from sales \n",
    "inner join \n",
    "menu on sales.product_id = menu.product_id\n",
    "inner join \n",
    "members on sales.customer_id = members.customer_id\n",
    "where sales.order_date < members.join_date) t where t.row_num = 1\n",
    ";"
   ]
  },
  {
   "cell_type": "code",
   "execution_count": 25,
   "id": "ba436827",
   "metadata": {},
   "outputs": [
    {
     "name": "stdout",
     "output_type": "stream",
     "text": [
      " * sqlite://\n",
      "Done.\n"
     ]
    },
    {
     "data": {
      "text/html": [
       "<table>\n",
       "    <tr>\n",
       "        <th>customer_id</th>\n",
       "        <th>count(menu.product_name)</th>\n",
       "        <th>total_amount</th>\n",
       "    </tr>\n",
       "    <tr>\n",
       "        <td>A</td>\n",
       "        <td>2</td>\n",
       "        <td>25</td>\n",
       "    </tr>\n",
       "    <tr>\n",
       "        <td>B</td>\n",
       "        <td>3</td>\n",
       "        <td>40</td>\n",
       "    </tr>\n",
       "</table>"
      ],
      "text/plain": [
       "[('A', 2, 25), ('B', 3, 40)]"
      ]
     },
     "execution_count": 25,
     "metadata": {},
     "output_type": "execute_result"
    }
   ],
   "source": [
    "%%sql\n",
    "-- 8. What is the total items and amount spent for each member before they became a member?\n",
    "select sales.customer_id,count(menu.product_name),sum(price) as total_amount\n",
    "from sales \n",
    "inner join \n",
    "menu on sales.product_id = menu.product_id\n",
    "inner join \n",
    "members on sales.customer_id = members.customer_id\n",
    "where sales.order_date < members.join_date\n",
    "group by sales.customer_id;"
   ]
  },
  {
   "cell_type": "code",
   "execution_count": 27,
   "id": "ba2f2f29",
   "metadata": {},
   "outputs": [
    {
     "name": "stdout",
     "output_type": "stream",
     "text": [
      " * sqlite://\n",
      "Done.\n"
     ]
    },
    {
     "data": {
      "text/html": [
       "<table>\n",
       "    <tr>\n",
       "        <th>customer_id</th>\n",
       "        <th>points</th>\n",
       "    </tr>\n",
       "    <tr>\n",
       "        <td>A</td>\n",
       "        <td>860</td>\n",
       "    </tr>\n",
       "    <tr>\n",
       "        <td>B</td>\n",
       "        <td>940</td>\n",
       "    </tr>\n",
       "    <tr>\n",
       "        <td>C</td>\n",
       "        <td>360</td>\n",
       "    </tr>\n",
       "</table>"
      ],
      "text/plain": [
       "[('A', 860), ('B', 940), ('C', 360)]"
      ]
     },
     "execution_count": 27,
     "metadata": {},
     "output_type": "execute_result"
    }
   ],
   "source": [
    "%%sql\n",
    "-- 9.  If each $1 spent equates to 10 points and sushi has a 2x points multiplier - how many points would each customer have?\n",
    "select customer_id,\n",
    "sum(case when product_name = 'sushi' then 20 * (menu.price) else (10 * menu.price) end) as points\n",
    "from sales \n",
    "inner join\n",
    "menu on sales.product_id = menu.product_id\n",
    "group by customer_id\n",
    "order by customer_id;"
   ]
  },
  {
   "cell_type": "code",
   "execution_count": 20,
   "id": "a8a5a6e2",
   "metadata": {},
   "outputs": [
    {
     "name": "stdout",
     "output_type": "stream",
     "text": [
      " * sqlite://\n",
      "Done.\n"
     ]
    },
    {
     "data": {
      "text/html": [
       "<table>\n",
       "    <tr>\n",
       "        <th>customer_id</th>\n",
       "        <th>points_earned</th>\n",
       "    </tr>\n",
       "    <tr>\n",
       "        <td>A</td>\n",
       "        <td>1020</td>\n",
       "    </tr>\n",
       "    <tr>\n",
       "        <td>B</td>\n",
       "        <td>560</td>\n",
       "    </tr>\n",
       "</table>"
      ],
      "text/plain": [
       "[('A', 1020), ('B', 560)]"
      ]
     },
     "execution_count": 20,
     "metadata": {},
     "output_type": "execute_result"
    }
   ],
   "source": [
    "%%sql\n",
    "-- 10. In the first week after a customer joins the program (including their join date) they earn 2x points on all items, not just sushi - how many points do customer A and B have at the end of January?\n",
    "select sales.customer_id,\n",
    "sum(case when sales.order_date between members.join_date and date(members.join_date,'+7 days')  then (20*price) \n",
    "    when sales.order_date > date(members.join_date,'+7 days')   then (10*price) end) as points_earned\n",
    "from\n",
    "sales \n",
    "inner join\n",
    "menu on sales.product_id = menu.product_id\n",
    "inner join\n",
    "members members on sales.customer_id = members.customer_id  \n",
    "group by ddsal.customer_id;\n"
   ]
  },
  {
   "cell_type": "code",
   "execution_count": null,
   "id": "c240dbbd",
   "metadata": {},
   "outputs": [],
   "source": []
  }
 ],
 "metadata": {
  "kernelspec": {
   "display_name": "Python 3",
   "language": "python",
   "name": "python3"
  },
  "language_info": {
   "codemirror_mode": {
    "name": "ipython",
    "version": 3
   },
   "file_extension": ".py",
   "mimetype": "text/x-python",
   "name": "python",
   "nbconvert_exporter": "python",
   "pygments_lexer": "ipython3",
   "version": "3.8.8"
  }
 },
 "nbformat": 4,
 "nbformat_minor": 5
}
